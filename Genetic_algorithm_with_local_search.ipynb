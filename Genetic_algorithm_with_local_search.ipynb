{
 "cells": [
  {
   "cell_type": "code",
   "execution_count": 2,
   "metadata": {},
   "outputs": [],
   "source": [
    "import pandas as pd\n",
    "import numpy as np\n",
    "import copy\n",
    "import math\n",
    "from tqdm import tqdm\n",
    "np.random.seed(42)\n",
    "def read_file(path):\n",
    "    \n",
    "    f = open(path).read().splitlines()\n",
    "\n",
    "    for i,line in enumerate(f):\n",
    "        line = line.split()\n",
    "        if i == 4:\n",
    "            j = int(line[0])\n",
    "            m = int(line[1])\n",
    "            p_t = np.zeros((j,m))\n",
    "            m_seq = np.zeros((j,m), dtype = np.int32)\n",
    "        elif i > 4:\n",
    "            for k in range(len(line)):\n",
    "                if k % 2 == 0:\n",
    "                    m_seq[i-5,int(k/2)] = int(line[k])\n",
    "                elif k % 2 == 1:\n",
    "                    p_t[i-5,int(k/2)] = int(line[k])\n",
    "    \n",
    "    return int(j), int(m), p_t, m_seq\n"
   ]
  },
  {
   "cell_type": "code",
   "execution_count": 3,
   "metadata": {},
   "outputs": [],
   "source": [
    "def compute_makespan(chromosome, p_t, m_seq):\n",
    "    op_count = np.zeros(p_t.shape[0], dtype = np.int32)\n",
    "    j_time = np.zeros(p_t.shape[0])\n",
    "    m_time = np.zeros(p_t.shape[1])\n",
    "\n",
    "    for j in chromosome:\n",
    "        completion_t = max(j_time[j], m_time[m_seq[j,op_count[j]]]) + p_t[j,op_count[j]]\n",
    "        j_time[j] = completion_t\n",
    "        m_time[m_seq[j,op_count[j]]] = completion_t\n",
    "        op_count[j] += 1\n",
    "\n",
    "    makespan = max(j_time)\n",
    "\n",
    "    return makespan"
   ]
  },
  {
   "cell_type": "code",
   "execution_count": 4,
   "metadata": {},
   "outputs": [],
   "source": [
    "def generate_init_pop(population_size, j, m):\n",
    "    population_list = np.zeros((population_size, int(j*m)), dtype = np.int32)\n",
    "    chromosome = np.zeros(j*m)\n",
    "    start = 0\n",
    "    for i in range(j):\n",
    "        chromosome[start:start+m] = i\n",
    "        start += m\n",
    "\n",
    "    for i in range(population_size):\n",
    "        np.random.shuffle(chromosome)\n",
    "        population_list[i] = chromosome\n",
    "    \n",
    "    return population_list"
   ]
  },
  {
   "cell_type": "code",
   "execution_count": 5,
   "metadata": {},
   "outputs": [],
   "source": [
    "def two_point_crossover(populationlist, crossover_rate):\n",
    "    parentlist = copy.deepcopy(populationlist)\n",
    "    childlist = copy.deepcopy(populationlist)\n",
    "    for i in range(len(parentlist),2):\n",
    "        sample_prob=np.random.rand()\n",
    "        if sample_prob <= crossover_rate:\n",
    "            cutpoint = np.random.choice(2, parentlist.shape[1], replace = False)\n",
    "            cutpoint.sort()\n",
    "            parent_1 = parentlist[i]\n",
    "            parent_2 = parentlist[i+1]\n",
    "            child_1 = copy.deepcopy(parent_1)\n",
    "            child_2 = copy.deepcopy(parent_2)\n",
    "            child_1[cutpoint[0]:cutpoint[1]] = parent_2[cutpoint[0]:cutpoint[1]]\n",
    "            child_2[cutpoint[0]:cutpoint[1]] = parent_1[cutpoint[0]:cutpoint[1]]\n",
    "            childlist[i] = child_1\n",
    "            childlist[i+1] = child_2\n",
    "    \n",
    "    return parentlist, childlist"
   ]
  },
  {
   "cell_type": "code",
   "execution_count": 6,
   "metadata": {},
   "outputs": [],
   "source": [
    "def job_order_implementation(parent1, parent2, select_job):\n",
    "    other_job_order = []\n",
    "    child = np.zeros(len(parent1))\n",
    "    for j in parent2:\n",
    "        if j != select_job:\n",
    "            other_job_order.append(j)\n",
    "    k = 0\n",
    "    for i,j in enumerate(parent1):\n",
    "        if j == select_job:\n",
    "            child[i] = j\n",
    "        else:\n",
    "            child[i] = other_job_order[k]\n",
    "            k += 1\n",
    "    \n",
    "    return child"
   ]
  },
  {
   "cell_type": "code",
   "execution_count": 7,
   "metadata": {},
   "outputs": [],
   "source": [
    "def job_order_crossover(populationlist, j, crossover_rate):\n",
    "    parentlist = copy.deepcopy(populationlist)\n",
    "    childlist = copy.deepcopy(populationlist)\n",
    "    for i in range(len(parentlist),2):\n",
    "        sample_prob=np.random.rand()\n",
    "        if sample_prob <= crossover_rate:\n",
    "            parent_id = np.random.choice(len(populationlist), 2, replace=False)\n",
    "            select_job = np.random.choice(j, 1, replace=False)[0]\n",
    "            child_1 = job_order_implementation(parentlist[parent_id[0]], parentlist[parent_id[1]], select_job)\n",
    "            child_2 = job_order_implementation(parentlist[parent_id[1]], parentlist[parent_id[0]], select_job)\n",
    "            childlist[i] = child_1\n",
    "            childlist[i+1] = child_2\n",
    "\n",
    "    return parentlist, childlist\n"
   ]
  },
  {
   "cell_type": "code",
   "execution_count": 8,
   "metadata": {},
   "outputs": [],
   "source": [
    "def repair(chromosome, j, m):\n",
    "    job_count = np.zeros(j)\n",
    "    for j in chromosome:\n",
    "        job_count[j] += 1\n",
    "    \n",
    "    job_count = job_count - m\n",
    "\n",
    "    much_less = [[],[]]\n",
    "    is_legall = True\n",
    "    for j,count in enumerate(job_count):\n",
    "        if count > 0:\n",
    "            is_legall = False\n",
    "            much_less[0].append(j)\n",
    "        elif count < 0:\n",
    "            is_legall = False\n",
    "            much_less[1].append(j)\n",
    "\n",
    "    if is_legall == False:\n",
    "        for m in much_less[0]:\n",
    "            for j in range(len(chromosome)):\n",
    "                if chromosome[j] == m:\n",
    "                    less_id = np.random.choice(len(much_less[1]),1)[0]\n",
    "                    chromosome[j] = much_less[1][less_id]\n",
    "                    job_count[m] -= 1\n",
    "                    job_count[much_less[1][less_id]] += 1\n",
    "\n",
    "                    if job_count[much_less[1][less_id]] == 0:\n",
    "                        much_less[1].remove(much_less[1][less_id])\n",
    "\n",
    "                    if job_count[m] == 0:\n",
    "                        break"
   ]
  },
  {
   "cell_type": "code",
   "execution_count": 9,
   "metadata": {},
   "outputs": [],
   "source": [
    "def mutation(childlist, num_mutation_jobs, mutation_rate, p_t, m_seq):\n",
    "    for chromosome in childlist:\n",
    "        sample_prob = np.random.rand()\n",
    "        if sample_prob <= mutation_rate:\n",
    "            mutationpoints = np.random.choice(len(chromosome), num_mutation_jobs, replace = False)\n",
    "            chrom_copy = copy.deepcopy(chromosome)\n",
    "            for i in range(len(mutationpoints)-1):\n",
    "                chromosome[mutationpoints[i+1]] = chrom_copy[mutationpoints[i]]\n",
    "\n",
    "            chromosome[mutationpoints[0]] = chrom_copy[mutationpoints[-1]]\n",
    "    \n",
    "    makespan_list = np.zeros(len(childlist))\n",
    "    for i,chromosome in enumerate(childlist):\n",
    "        makespan_list[i] = compute_makespan(chromosome, p_t, m_seq)\n",
    "    \n",
    "    num_all_mut = int(0.1*len(childlist))\n",
    "    zipped = list(zip(makespan_list, np.arange(len(makespan_list))))\n",
    "    sorted_zipped = sorted(zipped, key=lambda x: x[0])\n",
    "    zipped = zip(*sorted_zipped)\n",
    "    partial_mut_id = np.asarray(list(zipped)[1])[:-num_all_mut]\n",
    "    all_mut = generate_init_pop(num_all_mut, p_t.shape[0], p_t.shape[1])\n",
    "    childlist = np.concatenate((all_mut,copy.deepcopy(childlist)[partial_mut_id]), axis = 0)\n",
    "    "
   ]
  },
  {
   "cell_type": "code",
   "execution_count": 10,
   "metadata": {},
   "outputs": [],
   "source": [
    "def selection(populationlist, makespan_list):\n",
    "    num_self_select = int(0.2*len(populationlist)/2)\n",
    "    num_roulette_wheel = int(len(populationlist)/2) - num_self_select\n",
    "    zipped = list(zip(makespan_list, np.arange(len(makespan_list))))\n",
    "    sorted_zipped = sorted(zipped, key=lambda x: x[0])\n",
    "    zipped = zip(*sorted_zipped)\n",
    "    self_select_id = np.asarray(list(zipped)[1])[:num_self_select]\n",
    "    \n",
    "    makespan_list = 1/makespan_list\n",
    "    selection_prob = makespan_list/sum(makespan_list)\n",
    "    roulette_wheel_id = np.random.choice(len(populationlist), size = num_roulette_wheel, p = selection_prob)\n",
    "    new_population = np.concatenate((copy.deepcopy(populationlist)[self_select_id],copy.deepcopy(populationlist)[roulette_wheel_id]), axis=0)\n",
    "    \n",
    "    return new_population"
   ]
  },
  {
   "cell_type": "code",
   "execution_count": 11,
   "metadata": {},
   "outputs": [],
   "source": [
    "def binary_selection(populationlist, makespan_list):\n",
    "    new_population = np.zeros((int(len(populationlist)/2), populationlist.shape[1]), dtype = np.int32)\n",
    "    \n",
    "    num_self_select = int(0.1*len(populationlist)/2)\n",
    "    num_binary = int(len(populationlist)/2) - num_self_select\n",
    "    zipped = list(zip(makespan_list, np.arange(len(makespan_list))))\n",
    "    sorted_zipped = sorted(zipped, key=lambda x: x[0])\n",
    "    zipped = zip(*sorted_zipped)\n",
    "    self_select_id = np.asarray(list(zipped)[1])[:num_self_select]\n",
    "    \n",
    "    for i in range(num_binary):\n",
    "        select_id = np.random.choice(len(makespan_list), 2, replace=False)\n",
    "        if makespan_list[select_id[0]] < makespan_list[select_id[1]]:\n",
    "            new_population[i] = populationlist[select_id[0]]\n",
    "        else:\n",
    "            new_population[i] = populationlist[select_id[1]]\n",
    "    \n",
    "    new_population[-num_self_select:] = copy.deepcopy(populationlist)[self_select_id]\n",
    "    \n",
    "    return new_population\n"
   ]
  },
  {
   "cell_type": "code",
   "execution_count": 12,
   "metadata": {},
   "outputs": [],
   "source": [
    "def adaptive_mutation(childlist, num_mutation_jobs, mutation_rate, p_t, m_seq, generation, prev_best_makespan):\n",
    "    # Define adaptation parameters\n",
    "    increase_threshold = 50  # Number of generations without improvement to trigger an increase\n",
    "    decrease_threshold = 10  # Number of generations with improvement to trigger a decrease\n",
    "    max_mutation_rate = 0.3  # Maximum allowed mutation rate\n",
    "    min_mutation_rate = 0.05  # Minimum allowed mutation rate\n",
    "    improvement_counter = 0\n",
    "    # Evaluate makespans for the current population\n",
    "    makespan_list = np.zeros(len(childlist))\n",
    "    for i, chromosome in enumerate(childlist):\n",
    "        makespan_list[i] = compute_makespan(chromosome, p_t, m_seq)\n",
    "\n",
    "    # Check if there is an improvement in the best makespan\n",
    "    current_best_makespan = min(makespan_list)\n",
    "    if current_best_makespan < prev_best_makespan:\n",
    "        improvement_counter = 0\n",
    "    else:\n",
    "        improvement_counter += 1\n",
    "\n",
    "    # Adaptive mutation logic\n",
    "    if improvement_counter >= increase_threshold:\n",
    "        mutation_rate *= 1.5  # Increase the mutation rate\n",
    "        improvement_counter = 0  # Reset the counter\n",
    "    elif improvement_counter >= decrease_threshold:\n",
    "        mutation_rate *= 0.5  # Decrease the mutation rate\n",
    "        improvement_counter = 0  # Reset the counter\n",
    "\n",
    "    # Ensure mutation rate is within bounds\n",
    "    mutation_rate = max(min(mutation_rate, max_mutation_rate), min_mutation_rate)\n",
    "\n",
    "    # Apply mutation with the adapted rate\n",
    "    for chromosome in childlist:\n",
    "        sample_prob = np.random.rand()\n",
    "        if sample_prob <= mutation_rate:\n",
    "            mutationpoints = np.random.choice(len(chromosome), num_mutation_jobs, replace=False)\n",
    "            chrom_copy = copy.deepcopy(chromosome)\n",
    "            for i in range(len(mutationpoints)-1):\n",
    "                chromosome[mutationpoints[i+1]] = chrom_copy[mutationpoints[i]]\n",
    "\n",
    "            chromosome[mutationpoints[0]] = chrom_copy[mutationpoints[-1]]\n",
    "\n",
    "    return mutation_rate, current_best_makespan\n",
    "        "
   ]
  },
  {
   "cell_type": "code",
   "execution_count": 13,
   "metadata": {},
   "outputs": [],
   "source": [
    "def local_search_swap(chromosome, p_t, m_seq):\n",
    "    \"\"\"\n",
    "    Local search operator: Swap two randomly selected jobs in the chromosome\n",
    "    \"\"\"\n",
    "    idx1, idx2 = np.random.choice(len(chromosome), 2, replace= False)\n",
    "    chromosome[idx1], chromosome[idx2]= chromosome[idx2], chromosome[idx1]\n",
    "    \n",
    "#def local_search_insertion(chromosome):\n",
    "#    \"\"\" \n",
    "#    Insertion operation: removes random job and insert in a random position\n",
    "#    \"\"\"\n",
    "#    idx = np.random.choice(len(chromosome))\n",
    "#    job = chromosome[idx]\n",
    "#    chromosome = np.delete(chromosome, idx)\n",
    "#    new_idx = np.random.choice(len(chromosome) + 1)\n",
    "#    chromosome = np.insert(chromosome, new_idx, job)\n",
    "\n",
    "#def local_search_reversal(chromosome):\n",
    "#    \"\"\" \n",
    "#    Reversal operation: reverses the order of jobs between two randomly selected positions\n",
    "#    \"\"\"\n",
    "#    idx1, idx2 = np.random.choice(len(chromosome), 2, replace=False)\n",
    "#    start, end = min(idx1, idx2), max(idx1, idx2)\n",
    "#    chromosome[start:end+1] = chromosome[start:end+1][::-1]\n",
    "    \n",
    "#def local_search_double_insertion(chromosome):\n",
    "#     \"\"\"\n",
    "#     Double insertion operation: selects two jobs at random and inserts them at two different random positions\n",
    "#     \"\"\"\n",
    "#     idx1, idx2 = np.random.choice(len(chromosome), 2, replace=False)\n",
    "#     jobs = [chromosome[idx1], chromosome[idx2]]\n",
    "#     chromosome = np.delete(chromosome, [idx1, idx2])\n",
    "#     new_idxs = np.random.choice(len(chromosome)+2, 2, replace=False)\n",
    "#     chromosome = np.insert(chromosome, new_idxs[0], jobs[0])\n",
    "#     chromosome = np.insert(chromosome, new_idxs[1], jobs[1])\n",
    "\n",
    "# Of all the methods defined above, I finally went with local search swapping after testing all other methods and realizing it was the most optimal for our job shop scheduling problem.    \n",
    "def apply_local_search (population, p_t, m_seq):\n",
    "    \"\"\" \n",
    "    Apply Local search to each individual in the population\n",
    "    \"\"\"\n",
    "    for i in range (len(population)):\n",
    "        local_search_swap(population[i], p_t, m_seq)"
   ]
  },
  {
   "cell_type": "code",
   "execution_count": 14,
   "metadata": {},
   "outputs": [],
   "source": [
    "# function to generate neighbors\n",
    "def generate_neighbors(solution):\n",
    "    neighbors=[]\n",
    "    for i in range(len(solution)):\n",
    "        for j in range(i+1, len(solution)):\n",
    "            neighbor = solution.copy()\n",
    "            neighbor[i], neighbor[j]= neighbor[j], neighbor[i]\n",
    "            neighbors.append(neighbor)\n",
    "    return neighbors"
   ]
  },
  {
   "cell_type": "code",
   "execution_count": 15,
   "metadata": {},
   "outputs": [],
   "source": [
    "# Define a hill climbing function that will be applied at the end of the main loop for better solutions\n",
    "def hill_climbing_local_search(initial_solution, p_t, m_seq):\n",
    "    current_solution = initial_solution.copy()\n",
    "    current_makespan = compute_makespan(current_solution, p_t, m_seq)\n",
    "    \n",
    "    improved = True\n",
    "    while improved:\n",
    "        # The loop will only continue to run as long as improvements are found. It quits when there is no longer any improvements \n",
    "        improved = False\n",
    "        neighbor_solutions = generate_neighbors(current_solution)\n",
    "        for neighbor in neighbor_solutions:\n",
    "            new_makespan = compute_makespan(neighbor, p_t, m_seq)\n",
    "            #if the neighbor solution is better, update the current solution\n",
    "            if new_makespan < current_makespan:\n",
    "                current_solution = neighbor\n",
    "                current_makespan = new_makespan\n",
    "                improved = True\n",
    "    return current_solution"
   ]
  },
  {
   "cell_type": "code",
   "execution_count": 26,
   "metadata": {},
   "outputs": [
    {
     "name": "stderr",
     "output_type": "stream",
     "text": [
      "100%|██████████| 1000/1000 [07:37<00:00,  2.18it/s]\n"
     ]
    },
    {
     "name": "stdout",
     "output_type": "stream",
     "text": [
      "Makespan before final local search: 1481.0\n",
      "Makespan after final hill climbing local search: 1398.0\n",
      "BEST JOB ORDER: \n",
      "[ 7 14  8  8  1 14  9  4 14 12  0 13  3 11 10  1  0  6 13  6  5 14 12 10\n",
      "  6  0  3  4  9  7 10  6  7 13  0 14  0 11 14  1 11  1  2  6 10 12 13 11\n",
      " 14  8 13  6  1 12  8 11  6  6  1  9 10  7  0  8  7  5 14  4  1  2 13  7\n",
      " 12  4  9 10  9 13  3  4 12  6  6  3  9 14 10  7  7  9  3  2  7  1  4  5\n",
      "  3 10 13 11 10  4 11 14 13  0  2 12  9 14  0  1  7  4  5  5  1  9  3  3\n",
      "  2  6 11  8  4 11 14  8  2  6  7  0 12  3  5 14 11  1  3 13  5  8 12  3\n",
      "  2  4  9 10  0  5 11 12  8  6 13  5  7  2 10  4  0 11  9  8  6  5  2  8\n",
      " 10  9  5  9  1 13 12 14  2  2 10  7  8  6 12  0 13 11  3  5  2  8  0 13\n",
      "  2 12  7  4 13 12  1  2  1  4  5  3  9 10  8 11 14 10 12  8 11  9  7  5\n",
      "  3  2  1  4  0  0  5  4  3]\n"
     ]
    },
    {
     "data": {
      "image/png": "[encoded data removed]",
      "text/plain": [
       "<Figure size 640x480 with 1 Axes>"
      ]
     },
     "metadata": {},
     "output_type": "display_data"
    }
   ],
   "source": [
    "# I needed to change this cell into a function in order to be able to perform the optimal random seed iteration in the next cell, which is important to our final solution\n",
    "#def run_generic_algorithm(seed):\n",
    "np.random.seed(32)\n",
    "if __name__ == \"__main__\":\n",
    "    instance_name =  r\"la36.txt\"\n",
    "    j, m, p_t, m_seq = read_file(instance_name)\n",
    "    population_size = 100\n",
    "    population_list = generate_init_pop(population_size, j ,m)\n",
    "    # discovered that the optimal crossover rate was 80%\n",
    "    crossover_rate = 0.8\n",
    "    # discorvered that the optimal starting mutation rate was 22%\n",
    "    mutation_rate = 0.22\n",
    "    mutation_selection_rate = 0.1\n",
    "    num_mutation_jobs=round(j*m*mutation_selection_rate)\n",
    "    num_iteration = 1000\n",
    "    min_makespan_record = []\n",
    "    avg_makespan_record = []\n",
    "    #change from min makespan to previous best makespan based on adaptive mutation\n",
    "    prev_best_makespan = 9999999\n",
    "    #Initialize a current best makespan as well\n",
    "    current_best_makespan = 999999\n",
    "\n",
    "    for i in tqdm(range(num_iteration)):\n",
    "        parentlist, childlist = job_order_crossover(population_list, j, crossover_rate)\n",
    "            \n",
    "        mutation_rate, prev_best_makespan = adaptive_mutation(childlist, num_mutation_jobs, mutation_rate, p_t, m_seq, i, prev_best_makespan)\n",
    "        mutation(childlist, num_mutation_jobs, mutation_rate, p_t, m_seq)\n",
    "        population_list = np.concatenate((parentlist, childlist), axis=0)\n",
    "        # Apply local search\n",
    "        apply_local_search(population_list, p_t, m_seq)\n",
    "        makespan_list = np.zeros(len(population_list))\n",
    "        \n",
    "        for k in range(len(population_list)):\n",
    "            makespan_list[k] = compute_makespan(population_list[k], p_t, m_seq)\n",
    "            \n",
    "            if makespan_list[k] < prev_best_makespan:\n",
    "                #change min makespan to current best makespan\n",
    "                current_best_makespan = makespan_list[k]\n",
    "                best_job_order = population_list[k]\n",
    "            \n",
    "        population_list = binary_selection(population_list, makespan_list)\n",
    "        #update the min makespan record list with the current best makespan\n",
    "        min_makespan_record.append(current_best_makespan)\n",
    "        avg_makespan_record.append(np.average(makespan_list))\n",
    "    \n",
    "    # Apply hill climbing local search to the best solution found by the genetic algorithm\n",
    "    best_job_order = hill_climbing_local_search(best_job_order, p_t, m_seq)\n",
    "    # get final best makespan\n",
    "    final_makespan = compute_makespan(best_job_order, p_t, m_seq)\n",
    "    #print current best makespan\n",
    "    print(f\"Makespan before final local search: {current_best_makespan}\")\n",
    "    print(f\"Makespan after final hill climbing local search: {final_makespan}\")\n",
    "    print(f\"BEST JOB ORDER: \\n{best_job_order}\")\n",
    "    import matplotlib.pyplot as plt\n",
    "    plt.plot([i for i in range(len(min_makespan_record))],min_makespan_record,'b',label='Best')\n",
    "    plt.plot([i for i in range(len(avg_makespan_record))],avg_makespan_record,'g',label='Average')\n",
    "    plt.ylabel('makespan',fontsize=15)\n",
    "    plt.xlabel('generation',fontsize=15)\n",
    "    plt.legend()\n",
    "    plt.title(\"Decreasing of the makespan in \"+instance_name)\n",
    "    plt.ylim(100, 3500)\n",
    "    plt.show()\n",
    "    #return current_best_makespan\n"
   ]
  },
  {
   "cell_type": "code",
   "execution_count": 17,
   "metadata": {},
   "outputs": [],
   "source": [
    "# The commented lines below can be used to iterate through different seed values in order to get the seed that produces the best makespan\n",
    "# This iterative process takes over 5 hours to complete and is no longer necessary since I have done the work and realized that seed 32 was the best\n",
    "# New data may have similar behavior, but you may need to run this cell to find out the best random seed value between 0 and 50\n",
    "\n",
    "\n",
    "#seed_range = range(0, 50)\n",
    "#results = {}\n",
    "#for seed in tqdm (seed_range):\n",
    "#    makespan_result = run_generic_algorithm(seed)\n",
    "#    results[seed] = makespan_result\n",
    "#best_seed = min(results, key = results.get)\n",
    "#best_makespan = results[best_seed] \n",
    "#print(f\"Best Seed: {best_seed}, Best Makespan: {best_makespan}\")"
   ]
  },
  {
   "cell_type": "code",
   "execution_count": 25,
   "metadata": {},
   "outputs": [
    {
     "data": {
      "application/vnd.plotly.v1+json": {
       "config": {
        "plotlyServerURL": "https://plot.ly"
       },
       "data": [
        {
         "fill": "toself",
         "fillcolor": "rgb(127, 127, 127)",
         "hoverinfo": "name",
         "legendgroup": "rgb(127, 127, 127)",
         "mode": "none",
         "name": "Job 7",
         "showlegend": true,
         "type": "scatter",
         "x": [
          "2023-11-23T00:03:02",
          "2023-11-23T00:03:08",
          "2023-11-23T00:03:08",
          "2023-11-23T00:03:02",
          "2023-11-23T00:03:02",
          "2023-11-23T00:04:24",
          "2023-11-23T00:05:46",
          "2023-11-23T00:05:46",
          "2023-11-23T00:04:24",
          "2023-11-23T00:04:24",
          "2023-11-23T00:08:46",
          "2023-11-23T00:10:21",
          "2023-11-23T00:10:21",
          "2023-11-23T00:08:46",
          "2023-11-23T00:08:46",
          "2023-11-23T00:07:11",
          "2023-11-23T00:07:47",
          "2023-11-23T00:07:47",
          "2023-11-23T00:07:11",
          "2023-11-23T00:07:11",
          "2023-11-23T00:02:30",
          "2023-11-23T00:03:33",
          "2023-11-23T00:03:33",
          "2023-11-23T00:02:30",
          "2023-11-23T00:02:30",
          "2023-11-23T00:04:51",
          "2023-11-23T00:05:18",
          "2023-11-23T00:05:18",
          "2023-11-23T00:04:51",
          "2023-11-23T00:04:51",
          "2023-11-23T00:08:46",
          "2023-11-23T00:10:21",
          "2023-11-23T00:10:21",
          "2023-11-23T00:08:46",
          "2023-11-23T00:08:46",
          "2023-11-23T00:01:27",
          "2023-11-23T00:02:54",
          "2023-11-23T00:02:54",
          "2023-11-23T00:01:27",
          "2023-11-23T00:01:27",
          "2023-11-23T00:08:46",
          "2023-11-23T00:10:21",
          "2023-11-23T00:10:21",
          "2023-11-23T00:08:46",
          "2023-11-23T00:08:46",
          "2023-11-23T00:06:35",
          "2023-11-23T00:07:23",
          "2023-11-23T00:07:23",
          "2023-11-23T00:06:35"
         ],
         "y": [
          8.8,
          8.8,
          9.2,
          9.2,
          null,
          7.8,
          7.8,
          8.2,
          8.2,
          null,
          6.8,
          6.8,
          7.2,
          7.2,
          null,
          5.8,
          5.8,
          6.2,
          6.2,
          null,
          4.8,
          4.8,
          5.2,
          5.2,
          null,
          3.8,
          3.8,
          4.2,
          4.2,
          null,
          2.8,
          2.8,
          3.2,
          3.2,
          null,
          1.8,
          1.8,
          2.2,
          2.2,
          null,
          0.8,
          0.8,
          1.2,
          1.2,
          null,
          -0.2,
          -0.2,
          0.2,
          0.2
         ]
        },
        {
         "fill": "toself",
         "fillcolor": "rgb(140, 86, 75)",
         "hoverinfo": "name",
         "legendgroup": "rgb(140, 86, 75)",
         "mode": "none",
         "name": "Job 5",
         "showlegend": true,
         "type": "scatter",
         "x": [
          "2023-11-23T00:06:34",
          "2023-11-23T00:08:08",
          "2023-11-23T00:08:08",
          "2023-11-23T00:06:34",
          "2023-11-23T00:06:34",
          "2023-11-23T00:09:18",
          "2023-11-23T00:10:08",
          "2023-11-23T00:10:08",
          "2023-11-23T00:09:18",
          "2023-11-23T00:09:18",
          "2023-11-23T00:05:00",
          "2023-11-23T00:06:04",
          "2023-11-23T00:06:04",
          "2023-11-23T00:05:00",
          "2023-11-23T00:05:00",
          "2023-11-23T00:06:49",
          "2023-11-23T00:07:04",
          "2023-11-23T00:07:04",
          "2023-11-23T00:06:49",
          "2023-11-23T00:06:49",
          "2023-11-23T00:06:34",
          "2023-11-23T00:08:08",
          "2023-11-23T00:08:08",
          "2023-11-23T00:06:34",
          "2023-11-23T00:06:34",
          "2023-11-23T00:03:56",
          "2023-11-23T00:05:11",
          "2023-11-23T00:05:11",
          "2023-11-23T00:03:56",
          "2023-11-23T00:03:56",
          "2023-11-23T00:02:41",
          "2023-11-23T00:04:11",
          "2023-11-23T00:04:11",
          "2023-11-23T00:02:41",
          "2023-11-23T00:02:41",
          "2023-11-23T00:06:34",
          "2023-11-23T00:08:08",
          "2023-11-23T00:08:08",
          "2023-11-23T00:06:34",
          "2023-11-23T00:06:34",
          "2023-11-23T00:06:49",
          "2023-11-23T00:07:04",
          "2023-11-23T00:07:04",
          "2023-11-23T00:06:49",
          "2023-11-23T00:06:49",
          "2023-11-23T00:06:34",
          "2023-11-23T00:08:08",
          "2023-11-23T00:08:08",
          "2023-11-23T00:06:34"
         ],
         "y": [
          8.8,
          8.8,
          9.2,
          9.2,
          null,
          7.8,
          7.8,
          8.2,
          8.2,
          null,
          6.8,
          6.8,
          7.2,
          7.2,
          null,
          5.8,
          5.8,
          6.2,
          6.2,
          null,
          4.8,
          4.8,
          5.2,
          5.2,
          null,
          3.8,
          3.8,
          4.2,
          4.2,
          null,
          2.8,
          2.8,
          3.2,
          3.2,
          null,
          1.8,
          1.8,
          2.2,
          2.2,
          null,
          0.8,
          0.8,
          1.2,
          1.2,
          null,
          -0.2,
          -0.2,
          0.2,
          0.2
         ]
        },
        {
         "fill": "toself",
         "fillcolor": "rgb(148, 103, 189)",
         "hoverinfo": "name",
         "legendgroup": "rgb(148, 103, 189)",
         "mode": "none",
         "name": "Job 4",
         "showlegend": true,
         "type": "scatter",
         "x": [
          "2023-11-23T00:07:52",
          "2023-11-23T00:08:47",
          "2023-11-23T00:08:47",
          "2023-11-23T00:07:52",
          "2023-11-23T00:07:52",
          "2023-11-23T00:02:50",
          "2023-11-23T00:03:52",
          "2023-11-23T00:03:52",
          "2023-11-23T00:02:50",
          "2023-11-23T00:02:50",
          "2023-11-23T00:04:05",
          "2023-11-23T00:05:20",
          "2023-11-23T00:05:20",
          "2023-11-23T00:04:05",
          "2023-11-23T00:04:05",
          "2023-11-23T00:04:05",
          "2023-11-23T00:05:20",
          "2023-11-23T00:05:20",
          "2023-11-23T00:04:05",
          "2023-11-23T00:04:05",
          "2023-11-23T00:07:52",
          "2023-11-23T00:08:47",
          "2023-11-23T00:08:47",
          "2023-11-23T00:07:52",
          "2023-11-23T00:07:52",
          "2023-11-23T00:06:57",
          "2023-11-23T00:07:32",
          "2023-11-23T00:07:32",
          "2023-11-23T00:06:57",
          "2023-11-23T00:06:57",
          "2023-11-23T00:04:05",
          "2023-11-23T00:05:20",
          "2023-11-23T00:05:20",
          "2023-11-23T00:04:05",
          "2023-11-23T00:04:05",
          "2023-11-23T00:05:10",
          "2023-11-23T00:05:17",
          "2023-11-23T00:05:17",
          "2023-11-23T00:05:10",
          "2023-11-23T00:05:10",
          "2023-11-23T00:05:10",
          "2023-11-23T00:05:17",
          "2023-11-23T00:05:17",
          "2023-11-23T00:05:10",
          "2023-11-23T00:05:10",
          "2023-11-23T00:05:03",
          "2023-11-23T00:05:14",
          "2023-11-23T00:05:14",
          "2023-11-23T00:05:03"
         ],
         "y": [
          8.8,
          8.8,
          9.2,
          9.2,
          null,
          7.8,
          7.8,
          8.2,
          8.2,
          null,
          6.8,
          6.8,
          7.2,
          7.2,
          null,
          5.8,
          5.8,
          6.2,
          6.2,
          null,
          4.8,
          4.8,
          5.2,
          5.2,
          null,
          3.8,
          3.8,
          4.2,
          4.2,
          null,
          2.8,
          2.8,
          3.2,
          3.2,
          null,
          1.8,
          1.8,
          2.2,
          2.2,
          null,
          0.8,
          0.8,
          1.2,
          1.2,
          null,
          -0.2,
          -0.2,
          0.2,
          0.2
         ]
        },
        {
         "fill": "toself",
         "fillcolor": "rgb(188, 189, 34)",
         "hoverinfo": "name",
         "legendgroup": "rgb(188, 189, 34)",
         "mode": "none",
         "name": "Job 8",
         "showlegend": true,
         "type": "scatter",
         "x": [
          "2023-11-23T00:07:16",
          "2023-11-23T00:08:32",
          "2023-11-23T00:08:32",
          "2023-11-23T00:07:16",
          "2023-11-23T00:07:16",
          "2023-11-23T00:04:06",
          "2023-11-23T00:05:22",
          "2023-11-23T00:05:22",
          "2023-11-23T00:04:06",
          "2023-11-23T00:04:06",
          "2023-11-23T00:01:32",
          "2023-11-23T00:02:13",
          "2023-11-23T00:02:13",
          "2023-11-23T00:01:32",
          "2023-11-23T00:01:32",
          "2023-11-23T00:07:52",
          "2023-11-23T00:08:28",
          "2023-11-23T00:08:28",
          "2023-11-23T00:07:52",
          "2023-11-23T00:07:52",
          "2023-11-23T00:07:52",
          "2023-11-23T00:08:28",
          "2023-11-23T00:08:28",
          "2023-11-23T00:07:52",
          "2023-11-23T00:07:52",
          "2023-11-23T00:07:52",
          "2023-11-23T00:08:28",
          "2023-11-23T00:08:28",
          "2023-11-23T00:07:52",
          "2023-11-23T00:07:52",
          "2023-11-23T00:07:16",
          "2023-11-23T00:08:32",
          "2023-11-23T00:08:32",
          "2023-11-23T00:07:16",
          "2023-11-23T00:07:16",
          "2023-11-23T00:05:30",
          "2023-11-23T00:06:54",
          "2023-11-23T00:06:54",
          "2023-11-23T00:05:30",
          "2023-11-23T00:05:30",
          "2023-11-23T00:01:32",
          "2023-11-23T00:02:13",
          "2023-11-23T00:02:13",
          "2023-11-23T00:01:32",
          "2023-11-23T00:01:32",
          "2023-11-23T00:08:00",
          "2023-11-23T00:08:08",
          "2023-11-23T00:08:08",
          "2023-11-23T00:08:00"
         ],
         "y": [
          8.8,
          8.8,
          9.2,
          9.2,
          null,
          7.8,
          7.8,
          8.2,
          8.2,
          null,
          6.8,
          6.8,
          7.2,
          7.2,
          null,
          5.8,
          5.8,
          6.2,
          6.2,
          null,
          4.8,
          4.8,
          5.2,
          5.2,
          null,
          3.8,
          3.8,
          4.2,
          4.2,
          null,
          2.8,
          2.8,
          3.2,
          3.2,
          null,
          1.8,
          1.8,
          2.2,
          2.2,
          null,
          0.8,
          0.8,
          1.2,
          1.2,
          null,
          -0.2,
          -0.2,
          0.2,
          0.2
         ]
        },
        {
         "fill": "toself",
         "fillcolor": "rgb(214, 39, 40)",
         "hoverinfo": "name",
         "legendgroup": "rgb(214, 39, 40)",
         "mode": "none",
         "name": "Job 3",
         "showlegend": true,
         "type": "scatter",
         "x": [
          "2023-11-23T00:03:04",
          "2023-11-23T00:04:14",
          "2023-11-23T00:04:14",
          "2023-11-23T00:03:04",
          "2023-11-23T00:03:04",
          "2023-11-23T00:01:22",
          "2023-11-23T00:02:44",
          "2023-11-23T00:02:44",
          "2023-11-23T00:01:22",
          "2023-11-23T00:01:22",
          "2023-11-23T00:01:22",
          "2023-11-23T00:02:44",
          "2023-11-23T00:02:44",
          "2023-11-23T00:01:22",
          "2023-11-23T00:01:22",
          "2023-11-23T00:01:44",
          "2023-11-23T00:02:06",
          "2023-11-23T00:02:06",
          "2023-11-23T00:01:44",
          "2023-11-23T00:01:44",
          "2023-11-23T00:01:54",
          "2023-11-23T00:02:04",
          "2023-11-23T00:02:04",
          "2023-11-23T00:01:54",
          "2023-11-23T00:01:54",
          "2023-11-23T00:03:53",
          "2023-11-23T00:04:42",
          "2023-11-23T00:04:42",
          "2023-11-23T00:03:53",
          "2023-11-23T00:03:53",
          "2023-11-23T00:03:04",
          "2023-11-23T00:04:14",
          "2023-11-23T00:04:14",
          "2023-11-23T00:03:04",
          "2023-11-23T00:03:04",
          "2023-11-23T00:01:54",
          "2023-11-23T00:02:04",
          "2023-11-23T00:02:04",
          "2023-11-23T00:01:54",
          "2023-11-23T00:01:54",
          "2023-11-23T00:07:15",
          "2023-11-23T00:08:35",
          "2023-11-23T00:08:35",
          "2023-11-23T00:07:15",
          "2023-11-23T00:07:15",
          "2023-11-23T00:04:33",
          "2023-11-23T00:05:13",
          "2023-11-23T00:05:13",
          "2023-11-23T00:04:33"
         ],
         "y": [
          8.8,
          8.8,
          9.2,
          9.2,
          null,
          7.8,
          7.8,
          8.2,
          8.2,
          null,
          6.8,
          6.8,
          7.2,
          7.2,
          null,
          5.8,
          5.8,
          6.2,
          6.2,
          null,
          4.8,
          4.8,
          5.2,
          5.2,
          null,
          3.8,
          3.8,
          4.2,
          4.2,
          null,
          2.8,
          2.8,
          3.2,
          3.2,
          null,
          1.8,
          1.8,
          2.2,
          2.2,
          null,
          0.8,
          0.8,
          1.2,
          1.2,
          null,
          -0.2,
          -0.2,
          0.2,
          0.2
         ]
        },
        {
         "fill": "toself",
         "fillcolor": "rgb(227, 119, 194)",
         "hoverinfo": "name",
         "legendgroup": "rgb(227, 119, 194)",
         "mode": "none",
         "name": "Job 6",
         "showlegend": true,
         "type": "scatter",
         "x": [
          "2023-11-23T00:02:43",
          "2023-11-23T00:04:16",
          "2023-11-23T00:04:16",
          "2023-11-23T00:02:43",
          "2023-11-23T00:02:43",
          "2023-11-23T00:09:05",
          "2023-11-23T00:10:02",
          "2023-11-23T00:10:02",
          "2023-11-23T00:09:05",
          "2023-11-23T00:09:05",
          "2023-11-23T00:09:05",
          "2023-11-23T00:10:02",
          "2023-11-23T00:10:02",
          "2023-11-23T00:09:05",
          "2023-11-23T00:09:05",
          "2023-11-23T00:02:43",
          "2023-11-23T00:04:16",
          "2023-11-23T00:04:16",
          "2023-11-23T00:02:43",
          "2023-11-23T00:02:43",
          "2023-11-23T00:04:00",
          "2023-11-23T00:05:17",
          "2023-11-23T00:05:17",
          "2023-11-23T00:04:00",
          "2023-11-23T00:04:00",
          "2023-11-23T00:09:05",
          "2023-11-23T00:10:02",
          "2023-11-23T00:10:02",
          "2023-11-23T00:09:05",
          "2023-11-23T00:09:05",
          "2023-11-23T00:07:00",
          "2023-11-23T00:08:33",
          "2023-11-23T00:08:33",
          "2023-11-23T00:07:00",
          "2023-11-23T00:07:00",
          "2023-11-23T00:08:08",
          "2023-11-23T00:09:16",
          "2023-11-23T00:09:16",
          "2023-11-23T00:08:08",
          "2023-11-23T00:08:08",
          "2023-11-23T00:09:05",
          "2023-11-23T00:10:02",
          "2023-11-23T00:10:02",
          "2023-11-23T00:09:05",
          "2023-11-23T00:09:05",
          "2023-11-23T00:04:00",
          "2023-11-23T00:05:17",
          "2023-11-23T00:05:17",
          "2023-11-23T00:04:00"
         ],
         "y": [
          8.8,
          8.8,
          9.2,
          9.2,
          null,
          7.8,
          7.8,
          8.2,
          8.2,
          null,
          6.8,
          6.8,
          7.2,
          7.2,
          null,
          5.8,
          5.8,
          6.2,
          6.2,
          null,
          4.8,
          4.8,
          5.2,
          5.2,
          null,
          3.8,
          3.8,
          4.2,
          4.2,
          null,
          2.8,
          2.8,
          3.2,
          3.2,
          null,
          1.8,
          1.8,
          2.2,
          2.2,
          null,
          0.8,
          0.8,
          1.2,
          1.2,
          null,
          -0.2,
          -0.2,
          0.2,
          0.2
         ]
        },
        {
         "fill": "toself",
         "fillcolor": "rgb(23, 190, 207)",
         "hoverinfo": "name",
         "legendgroup": "rgb(23, 190, 207)",
         "mode": "none",
         "name": "Job 9",
         "showlegend": true,
         "type": "scatter",
         "x": [
          "2023-11-23T00:07:58",
          "2023-11-23T00:09:16",
          "2023-11-23T00:09:16",
          "2023-11-23T00:07:58",
          "2023-11-23T00:07:58",
          "2023-11-23T00:02:49",
          "2023-11-23T00:04:10",
          "2023-11-23T00:04:10",
          "2023-11-23T00:02:49",
          "2023-11-23T00:02:49",
          "2023-11-23T00:03:02",
          "2023-11-23T00:03:15",
          "2023-11-23T00:03:15",
          "2023-11-23T00:03:02",
          "2023-11-23T00:03:02",
          "2023-11-23T00:05:31",
          "2023-11-23T00:05:44",
          "2023-11-23T00:05:44",
          "2023-11-23T00:05:31",
          "2023-11-23T00:05:31",
          "2023-11-23T00:06:00",
          "2023-11-23T00:06:29",
          "2023-11-23T00:06:29",
          "2023-11-23T00:06:00",
          "2023-11-23T00:06:00",
          "2023-11-23T00:05:18",
          "2023-11-23T00:06:12",
          "2023-11-23T00:06:12",
          "2023-11-23T00:05:18",
          "2023-11-23T00:05:18",
          "2023-11-23T00:01:28",
          "2023-11-23T00:02:56",
          "2023-11-23T00:02:56",
          "2023-11-23T00:01:28",
          "2023-11-23T00:01:28",
          "2023-11-23T00:04:24",
          "2023-11-23T00:05:46",
          "2023-11-23T00:05:46",
          "2023-11-23T00:04:24",
          "2023-11-23T00:04:24",
          "2023-11-23T00:02:49",
          "2023-11-23T00:04:10",
          "2023-11-23T00:04:10",
          "2023-11-23T00:02:49",
          "2023-11-23T00:02:49",
          "2023-11-23T00:03:02",
          "2023-11-23T00:03:15",
          "2023-11-23T00:03:15",
          "2023-11-23T00:03:02"
         ],
         "y": [
          8.8,
          8.8,
          9.2,
          9.2,
          null,
          7.8,
          7.8,
          8.2,
          8.2,
          null,
          6.8,
          6.8,
          7.2,
          7.2,
          null,
          5.8,
          5.8,
          6.2,
          6.2,
          null,
          4.8,
          4.8,
          5.2,
          5.2,
          null,
          3.8,
          3.8,
          4.2,
          4.2,
          null,
          2.8,
          2.8,
          3.2,
          3.2,
          null,
          1.8,
          1.8,
          2.2,
          2.2,
          null,
          0.8,
          0.8,
          1.2,
          1.2,
          null,
          -0.2,
          -0.2,
          0.2,
          0.2
         ]
        },
        {
         "fill": "toself",
         "fillcolor": "rgb(255, 127, 14)",
         "hoverinfo": "name",
         "legendgroup": "rgb(255, 127, 14)",
         "mode": "none",
         "name": "Job 10",
         "showlegend": true,
         "type": "scatter",
         "x": [
          "2023-11-23T00:04:56",
          "2023-11-23T00:05:02",
          "2023-11-23T00:05:02",
          "2023-11-23T00:04:56",
          "2023-11-23T00:04:56",
          "2023-11-23T00:07:44",
          "2023-11-23T00:08:10",
          "2023-11-23T00:08:10",
          "2023-11-23T00:07:44",
          "2023-11-23T00:07:44",
          "2023-11-23T00:04:50",
          "2023-11-23T00:05:42",
          "2023-11-23T00:05:42",
          "2023-11-23T00:04:50",
          "2023-11-23T00:04:50",
          "2023-11-23T00:05:50",
          "2023-11-23T00:06:44",
          "2023-11-23T00:06:44",
          "2023-11-23T00:05:50",
          "2023-11-23T00:05:50",
          "2023-11-23T00:07:18",
          "2023-11-23T00:07:24",
          "2023-11-23T00:07:24",
          "2023-11-23T00:07:18",
          "2023-11-23T00:07:18",
          "2023-11-23T00:07:44",
          "2023-11-23T00:08:10",
          "2023-11-23T00:08:10",
          "2023-11-23T00:07:44",
          "2023-11-23T00:07:44",
          "2023-11-23T00:05:50",
          "2023-11-23T00:06:44",
          "2023-11-23T00:06:44",
          "2023-11-23T00:05:50",
          "2023-11-23T00:05:50",
          "2023-11-23T00:05:50",
          "2023-11-23T00:06:44",
          "2023-11-23T00:06:44",
          "2023-11-23T00:05:50",
          "2023-11-23T00:05:50",
          "2023-11-23T00:02:22",
          "2023-11-23T00:03:16",
          "2023-11-23T00:03:16",
          "2023-11-23T00:02:22",
          "2023-11-23T00:02:22",
          "2023-11-23T00:04:56",
          "2023-11-23T00:05:02",
          "2023-11-23T00:05:02",
          "2023-11-23T00:04:56"
         ],
         "y": [
          8.8,
          8.8,
          9.2,
          9.2,
          null,
          7.8,
          7.8,
          8.2,
          8.2,
          null,
          6.8,
          6.8,
          7.2,
          7.2,
          null,
          5.8,
          5.8,
          6.2,
          6.2,
          null,
          4.8,
          4.8,
          5.2,
          5.2,
          null,
          3.8,
          3.8,
          4.2,
          4.2,
          null,
          2.8,
          2.8,
          3.2,
          3.2,
          null,
          1.8,
          1.8,
          2.2,
          2.2,
          null,
          0.8,
          0.8,
          1.2,
          1.2,
          null,
          -0.2,
          -0.2,
          0.2,
          0.2
         ]
        },
        {
         "fill": "toself",
         "fillcolor": "rgb(31, 119, 180)",
         "hoverinfo": "name",
         "legendgroup": "rgb(31, 119, 180)",
         "mode": "none",
         "name": "Job 1",
         "showlegend": true,
         "type": "scatter",
         "x": [
          "2023-11-23T00:00:44",
          "2023-11-23T00:01:28",
          "2023-11-23T00:01:28",
          "2023-11-23T00:00:44",
          "2023-11-23T00:00:44",
          "2023-11-23T00:03:33",
          "2023-11-23T00:03:42",
          "2023-11-23T00:03:42",
          "2023-11-23T00:03:33",
          "2023-11-23T00:03:33",
          "2023-11-23T00:07:50",
          "2023-11-23T00:09:26",
          "2023-11-23T00:09:26",
          "2023-11-23T00:07:50",
          "2023-11-23T00:07:50",
          "2023-11-23T00:00:44",
          "2023-11-23T00:01:28",
          "2023-11-23T00:01:28",
          "2023-11-23T00:00:44",
          "2023-11-23T00:00:44",
          "2023-11-23T00:00:44",
          "2023-11-23T00:01:28",
          "2023-11-23T00:01:28",
          "2023-11-23T00:00:44",
          "2023-11-23T00:00:44",
          "2023-11-23T00:03:24",
          "2023-11-23T00:05:01",
          "2023-11-23T00:05:01",
          "2023-11-23T00:03:24",
          "2023-11-23T00:03:24",
          "2023-11-23T00:03:24",
          "2023-11-23T00:05:01",
          "2023-11-23T00:05:01",
          "2023-11-23T00:03:24",
          "2023-11-23T00:03:24",
          "2023-11-23T00:10:17",
          "2023-11-23T00:11:46",
          "2023-11-23T00:11:46",
          "2023-11-23T00:10:17",
          "2023-11-23T00:10:17",
          "2023-11-23T00:00:44",
          "2023-11-23T00:01:28",
          "2023-11-23T00:01:28",
          "2023-11-23T00:00:44",
          "2023-11-23T00:00:44",
          "2023-11-23T00:07:50",
          "2023-11-23T00:09:26",
          "2023-11-23T00:09:26",
          "2023-11-23T00:07:50"
         ],
         "y": [
          8.8,
          8.8,
          9.2,
          9.2,
          null,
          7.8,
          7.8,
          8.2,
          8.2,
          null,
          6.8,
          6.8,
          7.2,
          7.2,
          null,
          5.8,
          5.8,
          6.2,
          6.2,
          null,
          4.8,
          4.8,
          5.2,
          5.2,
          null,
          3.8,
          3.8,
          4.2,
          4.2,
          null,
          2.8,
          2.8,
          3.2,
          3.2,
          null,
          1.8,
          1.8,
          2.2,
          2.2,
          null,
          0.8,
          0.8,
          1.2,
          1.2,
          null,
          -0.2,
          -0.2,
          0.2,
          0.2
         ]
        },
        {
         "fill": "toself",
         "fillcolor": "rgb(44, 160, 44)",
         "hoverinfo": "name",
         "legendgroup": "rgb(44, 160, 44)",
         "mode": "none",
         "name": "Job 2",
         "showlegend": true,
         "type": "scatter",
         "x": [
          "2023-11-23T00:09:05",
          "2023-11-23T00:10:18",
          "2023-11-23T00:10:18",
          "2023-11-23T00:09:05",
          "2023-11-23T00:09:05",
          "2023-11-23T00:07:13",
          "2023-11-23T00:08:34",
          "2023-11-23T00:08:34",
          "2023-11-23T00:07:13",
          "2023-11-23T00:07:13",
          "2023-11-23T00:00:15",
          "2023-11-23T00:00:30",
          "2023-11-23T00:00:30",
          "2023-11-23T00:00:15",
          "2023-11-23T00:00:15",
          "2023-11-23T00:09:05",
          "2023-11-23T00:10:18",
          "2023-11-23T00:10:18",
          "2023-11-23T00:09:05",
          "2023-11-23T00:09:05",
          "2023-11-23T00:07:52",
          "2023-11-23T00:08:31",
          "2023-11-23T00:08:31",
          "2023-11-23T00:07:52",
          "2023-11-23T00:07:52",
          "2023-11-23T00:07:13",
          "2023-11-23T00:08:34",
          "2023-11-23T00:08:34",
          "2023-11-23T00:07:13",
          "2023-11-23T00:07:13",
          "2023-11-23T00:00:15",
          "2023-11-23T00:00:30",
          "2023-11-23T00:00:30",
          "2023-11-23T00:00:15",
          "2023-11-23T00:00:15",
          "2023-11-23T00:07:13",
          "2023-11-23T00:08:34",
          "2023-11-23T00:08:34",
          "2023-11-23T00:07:13",
          "2023-11-23T00:07:13",
          "2023-11-23T00:00:46",
          "2023-11-23T00:01:17",
          "2023-11-23T00:01:17",
          "2023-11-23T00:00:46",
          "2023-11-23T00:00:46",
          "2023-11-23T00:00:46",
          "2023-11-23T00:01:17",
          "2023-11-23T00:01:17",
          "2023-11-23T00:00:46"
         ],
         "y": [
          8.8,
          8.8,
          9.2,
          9.2,
          null,
          7.8,
          7.8,
          8.2,
          8.2,
          null,
          6.8,
          6.8,
          7.2,
          7.2,
          null,
          5.8,
          5.8,
          6.2,
          6.2,
          null,
          4.8,
          4.8,
          5.2,
          5.2,
          null,
          3.8,
          3.8,
          4.2,
          4.2,
          null,
          2.8,
          2.8,
          3.2,
          3.2,
          null,
          1.8,
          1.8,
          2.2,
          2.2,
          null,
          0.8,
          0.8,
          1.2,
          1.2,
          null,
          -0.2,
          -0.2,
          0.2,
          0.2
         ]
        },
        {
         "legendgroup": "rgb(127, 127, 127)",
         "marker": {
          "color": "rgb(127, 127, 127)",
          "opacity": 0,
          "size": 1
         },
         "mode": "markers",
         "name": "",
         "showlegend": false,
         "text": [
          null,
          null,
          null,
          null,
          null,
          null,
          null,
          null,
          null,
          null,
          null,
          null,
          null,
          null,
          null,
          null,
          null,
          null,
          null,
          null
         ],
         "type": "scatter",
         "x": [
          "2023-11-23T00:03:02",
          "2023-11-23T00:03:08",
          "2023-11-23T00:04:24",
          "2023-11-23T00:05:46",
          "2023-11-23T00:08:46",
          "2023-11-23T00:10:21",
          "2023-11-23T00:07:11",
          "2023-11-23T00:07:47",
          "2023-11-23T00:02:30",
          "2023-11-23T00:03:33",
          "2023-11-23T00:04:51",
          "2023-11-23T00:05:18",
          "2023-11-23T00:08:46",
          "2023-11-23T00:10:21",
          "2023-11-23T00:01:27",
          "2023-11-23T00:02:54",
          "2023-11-23T00:08:46",
          "2023-11-23T00:10:21",
          "2023-11-23T00:06:35",
          "2023-11-23T00:07:23"
         ],
         "y": [
          9,
          9,
          8,
          8,
          7,
          7,
          6,
          6,
          5,
          5,
          4,
          4,
          3,
          3,
          2,
          2,
          1,
          1,
          0,
          0
         ]
        },
        {
         "legendgroup": "rgb(140, 86, 75)",
         "marker": {
          "color": "rgb(140, 86, 75)",
          "opacity": 0,
          "size": 1
         },
         "mode": "markers",
         "name": "",
         "showlegend": false,
         "text": [
          null,
          null,
          null,
          null,
          null,
          null,
          null,
          null,
          null,
          null,
          null,
          null,
          null,
          null,
          null,
          null,
          null,
          null,
          null,
          null
         ],
         "type": "scatter",
         "x": [
          "2023-11-23T00:06:34",
          "2023-11-23T00:08:08",
          "2023-11-23T00:09:18",
          "2023-11-23T00:10:08",
          "2023-11-23T00:05:00",
          "2023-11-23T00:06:04",
          "2023-11-23T00:06:49",
          "2023-11-23T00:07:04",
          "2023-11-23T00:06:34",
          "2023-11-23T00:08:08",
          "2023-11-23T00:03:56",
          "2023-11-23T00:05:11",
          "2023-11-23T00:02:41",
          "2023-11-23T00:04:11",
          "2023-11-23T00:06:34",
          "2023-11-23T00:08:08",
          "2023-11-23T00:06:49",
          "2023-11-23T00:07:04",
          "2023-11-23T00:06:34",
          "2023-11-23T00:08:08"
         ],
         "y": [
          9,
          9,
          8,
          8,
          7,
          7,
          6,
          6,
          5,
          5,
          4,
          4,
          3,
          3,
          2,
          2,
          1,
          1,
          0,
          0
         ]
        },
        {
         "legendgroup": "rgb(148, 103, 189)",
         "marker": {
          "color": "rgb(148, 103, 189)",
          "opacity": 0,
          "size": 1
         },
         "mode": "markers",
         "name": "",
         "showlegend": false,
         "text": [
          null,
          null,
          null,
          null,
          null,
          null,
          null,
          null,
          null,
          null,
          null,
          null,
          null,
          null,
          null,
          null,
          null,
          null,
          null,
          null
         ],
         "type": "scatter",
         "x": [
          "2023-11-23T00:07:52",
          "2023-11-23T00:08:47",
          "2023-11-23T00:02:50",
          "2023-11-23T00:03:52",
          "2023-11-23T00:04:05",
          "2023-11-23T00:05:20",
          "2023-11-23T00:04:05",
          "2023-11-23T00:05:20",
          "2023-11-23T00:07:52",
          "2023-11-23T00:08:47",
          "2023-11-23T00:06:57",
          "2023-11-23T00:07:32",
          "2023-11-23T00:04:05",
          "2023-11-23T00:05:20",
          "2023-11-23T00:05:10",
          "2023-11-23T00:05:17",
          "2023-11-23T00:05:10",
          "2023-11-23T00:05:17",
          "2023-11-23T00:05:03",
          "2023-11-23T00:05:14"
         ],
         "y": [
          9,
          9,
          8,
          8,
          7,
          7,
          6,
          6,
          5,
          5,
          4,
          4,
          3,
          3,
          2,
          2,
          1,
          1,
          0,
          0
         ]
        },
        {
         "legendgroup": "rgb(188, 189, 34)",
         "marker": {
          "color": "rgb(188, 189, 34)",
          "opacity": 0,
          "size": 1
         },
         "mode": "markers",
         "name": "",
         "showlegend": false,
         "text": [
          null,
          null,
          null,
          null,
          null,
          null,
          null,
          null,
          null,
          null,
          null,
          null,
          null,
          null,
          null,
          null,
          null,
          null,
          null,
          null
         ],
         "type": "scatter",
         "x": [
          "2023-11-23T00:07:16",
          "2023-11-23T00:08:32",
          "2023-11-23T00:04:06",
          "2023-11-23T00:05:22",
          "2023-11-23T00:01:32",
          "2023-11-23T00:02:13",
          "2023-11-23T00:07:52",
          "2023-11-23T00:08:28",
          "2023-11-23T00:07:52",
          "2023-11-23T00:08:28",
          "2023-11-23T00:07:52",
          "2023-11-23T00:08:28",
          "2023-11-23T00:07:16",
          "2023-11-23T00:08:32",
          "2023-11-23T00:05:30",
          "2023-11-23T00:06:54",
          "2023-11-23T00:01:32",
          "2023-11-23T00:02:13",
          "2023-11-23T00:08:00",
          "2023-11-23T00:08:08"
         ],
         "y": [
          9,
          9,
          8,
          8,
          7,
          7,
          6,
          6,
          5,
          5,
          4,
          4,
          3,
          3,
          2,
          2,
          1,
          1,
          0,
          0
         ]
        },
        {
         "legendgroup": "rgb(214, 39, 40)",
         "marker": {
          "color": "rgb(214, 39, 40)",
          "opacity": 0,
          "size": 1
         },
         "mode": "markers",
         "name": "",
         "showlegend": false,
         "text": [
          null,
          null,
          null,
          null,
          null,
          null,
          null,
          null,
          null,
          null,
          null,
          null,
          null,
          null,
          null,
          null,
          null,
          null,
          null,
          null
         ],
         "type": "scatter",
         "x": [
          "2023-11-23T00:03:04",
          "2023-11-23T00:04:14",
          "2023-11-23T00:01:22",
          "2023-11-23T00:02:44",
          "2023-11-23T00:01:22",
          "2023-11-23T00:02:44",
          "2023-11-23T00:01:44",
          "2023-11-23T00:02:06",
          "2023-11-23T00:01:54",
          "2023-11-23T00:02:04",
          "2023-11-23T00:03:53",
          "2023-11-23T00:04:42",
          "2023-11-23T00:03:04",
          "2023-11-23T00:04:14",
          "2023-11-23T00:01:54",
          "2023-11-23T00:02:04",
          "2023-11-23T00:07:15",
          "2023-11-23T00:08:35",
          "2023-11-23T00:04:33",
          "2023-11-23T00:05:13"
         ],
         "y": [
          9,
          9,
          8,
          8,
          7,
          7,
          6,
          6,
          5,
          5,
          4,
          4,
          3,
          3,
          2,
          2,
          1,
          1,
          0,
          0
         ]
        },
        {
         "legendgroup": "rgb(227, 119, 194)",
         "marker": {
          "color": "rgb(227, 119, 194)",
          "opacity": 0,
          "size": 1
         },
         "mode": "markers",
         "name": "",
         "showlegend": false,
         "text": [
          null,
          null,
          null,
          null,
          null,
          null,
          null,
          null,
          null,
          null,
          null,
          null,
          null,
          null,
          null,
          null,
          null,
          null,
          null,
          null
         ],
         "type": "scatter",
         "x": [
          "2023-11-23T00:02:43",
          "2023-11-23T00:04:16",
          "2023-11-23T00:09:05",
          "2023-11-23T00:10:02",
          "2023-11-23T00:09:05",
          "2023-11-23T00:10:02",
          "2023-11-23T00:02:43",
          "2023-11-23T00:04:16",
          "2023-11-23T00:04:00",
          "2023-11-23T00:05:17",
          "2023-11-23T00:09:05",
          "2023-11-23T00:10:02",
          "2023-11-23T00:07:00",
          "2023-11-23T00:08:33",
          "2023-11-23T00:08:08",
          "2023-11-23T00:09:16",
          "2023-11-23T00:09:05",
          "2023-11-23T00:10:02",
          "2023-11-23T00:04:00",
          "2023-11-23T00:05:17"
         ],
         "y": [
          9,
          9,
          8,
          8,
          7,
          7,
          6,
          6,
          5,
          5,
          4,
          4,
          3,
          3,
          2,
          2,
          1,
          1,
          0,
          0
         ]
        },
        {
         "legendgroup": "rgb(23, 190, 207)",
         "marker": {
          "color": "rgb(23, 190, 207)",
          "opacity": 0,
          "size": 1
         },
         "mode": "markers",
         "name": "",
         "showlegend": false,
         "text": [
          null,
          null,
          null,
          null,
          null,
          null,
          null,
          null,
          null,
          null,
          null,
          null,
          null,
          null,
          null,
          null,
          null,
          null,
          null,
          null
         ],
         "type": "scatter",
         "x": [
          "2023-11-23T00:07:58",
          "2023-11-23T00:09:16",
          "2023-11-23T00:02:49",
          "2023-11-23T00:04:10",
          "2023-11-23T00:03:02",
          "2023-11-23T00:03:15",
          "2023-11-23T00:05:31",
          "2023-11-23T00:05:44",
          "2023-11-23T00:06:00",
          "2023-11-23T00:06:29",
          "2023-11-23T00:05:18",
          "2023-11-23T00:06:12",
          "2023-11-23T00:01:28",
          "2023-11-23T00:02:56",
          "2023-11-23T00:04:24",
          "2023-11-23T00:05:46",
          "2023-11-23T00:02:49",
          "2023-11-23T00:04:10",
          "2023-11-23T00:03:02",
          "2023-11-23T00:03:15"
         ],
         "y": [
          9,
          9,
          8,
          8,
          7,
          7,
          6,
          6,
          5,
          5,
          4,
          4,
          3,
          3,
          2,
          2,
          1,
          1,
          0,
          0
         ]
        },
        {
         "legendgroup": "rgb(255, 127, 14)",
         "marker": {
          "color": "rgb(255, 127, 14)",
          "opacity": 0,
          "size": 1
         },
         "mode": "markers",
         "name": "",
         "showlegend": false,
         "text": [
          null,
          null,
          null,
          null,
          null,
          null,
          null,
          null,
          null,
          null,
          null,
          null,
          null,
          null,
          null,
          null,
          null,
          null,
          null,
          null
         ],
         "type": "scatter",
         "x": [
          "2023-11-23T00:04:56",
          "2023-11-23T00:05:02",
          "2023-11-23T00:07:44",
          "2023-11-23T00:08:10",
          "2023-11-23T00:04:50",
          "2023-11-23T00:05:42",
          "2023-11-23T00:05:50",
          "2023-11-23T00:06:44",
          "2023-11-23T00:07:18",
          "2023-11-23T00:07:24",
          "2023-11-23T00:07:44",
          "2023-11-23T00:08:10",
          "2023-11-23T00:05:50",
          "2023-11-23T00:06:44",
          "2023-11-23T00:05:50",
          "2023-11-23T00:06:44",
          "2023-11-23T00:02:22",
          "2023-11-23T00:03:16",
          "2023-11-23T00:04:56",
          "2023-11-23T00:05:02"
         ],
         "y": [
          9,
          9,
          8,
          8,
          7,
          7,
          6,
          6,
          5,
          5,
          4,
          4,
          3,
          3,
          2,
          2,
          1,
          1,
          0,
          0
         ]
        },
        {
         "legendgroup": "rgb(31, 119, 180)",
         "marker": {
          "color": "rgb(31, 119, 180)",
          "opacity": 0,
          "size": 1
         },
         "mode": "markers",
         "name": "",
         "showlegend": false,
         "text": [
          null,
          null,
          null,
          null,
          null,
          null,
          null,
          null,
          null,
          null,
          null,
          null,
          null,
          null,
          null,
          null,
          null,
          null,
          null,
          null
         ],
         "type": "scatter",
         "x": [
          "2023-11-23T00:00:44",
          "2023-11-23T00:01:28",
          "2023-11-23T00:03:33",
          "2023-11-23T00:03:42",
          "2023-11-23T00:07:50",
          "2023-11-23T00:09:26",
          "2023-11-23T00:00:44",
          "2023-11-23T00:01:28",
          "2023-11-23T00:00:44",
          "2023-11-23T00:01:28",
          "2023-11-23T00:03:24",
          "2023-11-23T00:05:01",
          "2023-11-23T00:03:24",
          "2023-11-23T00:05:01",
          "2023-11-23T00:10:17",
          "2023-11-23T00:11:46",
          "2023-11-23T00:00:44",
          "2023-11-23T00:01:28",
          "2023-11-23T00:07:50",
          "2023-11-23T00:09:26"
         ],
         "y": [
          9,
          9,
          8,
          8,
          7,
          7,
          6,
          6,
          5,
          5,
          4,
          4,
          3,
          3,
          2,
          2,
          1,
          1,
          0,
          0
         ]
        },
        {
         "legendgroup": "rgb(44, 160, 44)",
         "marker": {
          "color": "rgb(44, 160, 44)",
          "opacity": 0,
          "size": 1
         },
         "mode": "markers",
         "name": "",
         "showlegend": false,
         "text": [
          null,
          null,
          null,
          null,
          null,
          null,
          null,
          null,
          null,
          null,
          null,
          null,
          null,
          null,
          null,
          null,
          null,
          null,
          null,
          null
         ],
         "type": "scatter",
         "x": [
          "2023-11-23T00:09:05",
          "2023-11-23T00:10:18",
          "2023-11-23T00:07:13",
          "2023-11-23T00:08:34",
          "2023-11-23T00:00:15",
          "2023-11-23T00:00:30",
          "2023-11-23T00:09:05",
          "2023-11-23T00:10:18",
          "2023-11-23T00:07:52",
          "2023-11-23T00:08:31",
          "2023-11-23T00:07:13",
          "2023-11-23T00:08:34",
          "2023-11-23T00:00:15",
          "2023-11-23T00:00:30",
          "2023-11-23T00:07:13",
          "2023-11-23T00:08:34",
          "2023-11-23T00:00:46",
          "2023-11-23T00:01:17",
          "2023-11-23T00:00:46",
          "2023-11-23T00:01:17"
         ],
         "y": [
          9,
          9,
          8,
          8,
          7,
          7,
          6,
          6,
          5,
          5,
          4,
          4,
          3,
          3,
          2,
          2,
          1,
          1,
          0,
          0
         ]
        }
       ],
       "layout": {
        "height": 600,
        "hovermode": "closest",
        "showlegend": true,
        "template": {
         "data": {
          "bar": [
           {
            "error_x": {
             "color": "#2a3f5f"
            },
            "error_y": {
             "color": "#2a3f5f"
            },
            "marker": {
             "line": {
              "color": "#E5ECF6",
              "width": 0.5
             },
             "pattern": {
              "fillmode": "overlay",
              "size": 10,
              "solidity": 0.2
             }
            },
            "type": "bar"
           }
          ],
          "barpolar": [
           {
            "marker": {
             "line": {
              "color": "#E5ECF6",
              "width": 0.5
             },
             "pattern": {
              "fillmode": "overlay",
              "size": 10,
              "solidity": 0.2
             }
            },
            "type": "barpolar"
           }
          ],
          "carpet": [
           {
            "aaxis": {
             "endlinecolor": "#2a3f5f",
             "gridcolor": "white",
             "linecolor": "white",
             "minorgridcolor": "white",
             "startlinecolor": "#2a3f5f"
            },
            "baxis": {
             "endlinecolor": "#2a3f5f",
             "gridcolor": "white",
             "linecolor": "white",
             "minorgridcolor": "white",
             "startlinecolor": "#2a3f5f"
            },
            "type": "carpet"
           }
          ],
          "choropleth": [
           {
            "colorbar": {
             "outlinewidth": 0,
             "ticks": ""
            },
            "type": "choropleth"
           }
          ],
          "contour": [
           {
            "colorbar": {
             "outlinewidth": 0,
             "ticks": ""
            },
            "colorscale": [
             [
              0,
              "#0d0887"
             ],
             [
              0.1111111111111111,
              "#46039f"
             ],
             [
              0.2222222222222222,
              "#7201a8"
             ],
             [
              0.3333333333333333,
              "#9c179e"
             ],
             [
              0.4444444444444444,
              "#bd3786"
             ],
             [
              0.5555555555555556,
              "#d8576b"
             ],
             [
              0.6666666666666666,
              "#ed7953"
             ],
             [
              0.7777777777777778,
              "#fb9f3a"
             ],
             [
              0.8888888888888888,
              "#fdca26"
             ],
             [
              1,
              "#f0f921"
             ]
            ],
            "type": "contour"
           }
          ],
          "contourcarpet": [
           {
            "colorbar": {
             "outlinewidth": 0,
             "ticks": ""
            },
            "type": "contourcarpet"
           }
          ],
          "heatmap": [
           {
            "colorbar": {
             "outlinewidth": 0,
             "ticks": ""
            },
            "colorscale": [
             [
              0,
              "#0d0887"
             ],
             [
              0.1111111111111111,
              "#46039f"
             ],
             [
              0.2222222222222222,
              "#7201a8"
             ],
             [
              0.3333333333333333,
              "#9c179e"
             ],
             [
              0.4444444444444444,
              "#bd3786"
             ],
             [
              0.5555555555555556,
              "#d8576b"
             ],
             [
              0.6666666666666666,
              "#ed7953"
             ],
             [
              0.7777777777777778,
              "#fb9f3a"
             ],
             [
              0.8888888888888888,
              "#fdca26"
             ],
             [
              1,
              "#f0f921"
             ]
            ],
            "type": "heatmap"
           }
          ],
          "heatmapgl": [
           {
            "colorbar": {
             "outlinewidth": 0,
             "ticks": ""
            },
            "colorscale": [
             [
              0,
              "#0d0887"
             ],
             [
              0.1111111111111111,
              "#46039f"
             ],
             [
              0.2222222222222222,
              "#7201a8"
             ],
             [
              0.3333333333333333,
              "#9c179e"
             ],
             [
              0.4444444444444444,
              "#bd3786"
             ],
             [
              0.5555555555555556,
              "#d8576b"
             ],
             [
              0.6666666666666666,
              "#ed7953"
             ],
             [
              0.7777777777777778,
              "#fb9f3a"
             ],
             [
              0.8888888888888888,
              "#fdca26"
             ],
             [
              1,
              "#f0f921"
             ]
            ],
            "type": "heatmapgl"
           }
          ],
          "histogram": [
           {
            "marker": {
             "pattern": {
              "fillmode": "overlay",
              "size": 10,
              "solidity": 0.2
             }
            },
            "type": "histogram"
           }
          ],
          "histogram2d": [
           {
            "colorbar": {
             "outlinewidth": 0,
             "ticks": ""
            },
            "colorscale": [
             [
              0,
              "#0d0887"
             ],
             [
              0.1111111111111111,
              "#46039f"
             ],
             [
              0.2222222222222222,
              "#7201a8"
             ],
             [
              0.3333333333333333,
              "#9c179e"
             ],
             [
              0.4444444444444444,
              "#bd3786"
             ],
             [
              0.5555555555555556,
              "#d8576b"
             ],
             [
              0.6666666666666666,
              "#ed7953"
             ],
             [
              0.7777777777777778,
              "#fb9f3a"
             ],
             [
              0.8888888888888888,
              "#fdca26"
             ],
             [
              1,
              "#f0f921"
             ]
            ],
            "type": "histogram2d"
           }
          ],
          "histogram2dcontour": [
           {
            "colorbar": {
             "outlinewidth": 0,
             "ticks": ""
            },
            "colorscale": [
             [
              0,
              "#0d0887"
             ],
             [
              0.1111111111111111,
              "#46039f"
             ],
             [
              0.2222222222222222,
              "#7201a8"
             ],
             [
              0.3333333333333333,
              "#9c179e"
             ],
             [
              0.4444444444444444,
              "#bd3786"
             ],
             [
              0.5555555555555556,
              "#d8576b"
             ],
             [
              0.6666666666666666,
              "#ed7953"
             ],
             [
              0.7777777777777778,
              "#fb9f3a"
             ],
             [
              0.8888888888888888,
              "#fdca26"
             ],
             [
              1,
              "#f0f921"
             ]
            ],
            "type": "histogram2dcontour"
           }
          ],
          "mesh3d": [
           {
            "colorbar": {
             "outlinewidth": 0,
             "ticks": ""
            },
            "type": "mesh3d"
           }
          ],
          "parcoords": [
           {
            "line": {
             "colorbar": {
              "outlinewidth": 0,
              "ticks": ""
             }
            },
            "type": "parcoords"
           }
          ],
          "pie": [
           {
            "automargin": true,
            "type": "pie"
           }
          ],
          "scatter": [
           {
            "fillpattern": {
             "fillmode": "overlay",
             "size": 10,
             "solidity": 0.2
            },
            "type": "scatter"
           }
          ],
          "scatter3d": [
           {
            "line": {
             "colorbar": {
              "outlinewidth": 0,
              "ticks": ""
             }
            },
            "marker": {
             "colorbar": {
              "outlinewidth": 0,
              "ticks": ""
             }
            },
            "type": "scatter3d"
           }
          ],
          "scattercarpet": [
           {
            "marker": {
             "colorbar": {
              "outlinewidth": 0,
              "ticks": ""
             }
            },
            "type": "scattercarpet"
           }
          ],
          "scattergeo": [
           {
            "marker": {
             "colorbar": {
              "outlinewidth": 0,
              "ticks": ""
             }
            },
            "type": "scattergeo"
           }
          ],
          "scattergl": [
           {
            "marker": {
             "colorbar": {
              "outlinewidth": 0,
              "ticks": ""
             }
            },
            "type": "scattergl"
           }
          ],
          "scattermapbox": [
           {
            "marker": {
             "colorbar": {
              "outlinewidth": 0,
              "ticks": ""
             }
            },
            "type": "scattermapbox"
           }
          ],
          "scatterpolar": [
           {
            "marker": {
             "colorbar": {
              "outlinewidth": 0,
              "ticks": ""
             }
            },
            "type": "scatterpolar"
           }
          ],
          "scatterpolargl": [
           {
            "marker": {
             "colorbar": {
              "outlinewidth": 0,
              "ticks": ""
             }
            },
            "type": "scatterpolargl"
           }
          ],
          "scatterternary": [
           {
            "marker": {
             "colorbar": {
              "outlinewidth": 0,
              "ticks": ""
             }
            },
            "type": "scatterternary"
           }
          ],
          "surface": [
           {
            "colorbar": {
             "outlinewidth": 0,
             "ticks": ""
            },
            "colorscale": [
             [
              0,
              "#0d0887"
             ],
             [
              0.1111111111111111,
              "#46039f"
             ],
             [
              0.2222222222222222,
              "#7201a8"
             ],
             [
              0.3333333333333333,
              "#9c179e"
             ],
             [
              0.4444444444444444,
              "#bd3786"
             ],
             [
              0.5555555555555556,
              "#d8576b"
             ],
             [
              0.6666666666666666,
              "#ed7953"
             ],
             [
              0.7777777777777778,
              "#fb9f3a"
             ],
             [
              0.8888888888888888,
              "#fdca26"
             ],
             [
              1,
              "#f0f921"
             ]
            ],
            "type": "surface"
           }
          ],
          "table": [
           {
            "cells": {
             "fill": {
              "color": "#EBF0F8"
             },
             "line": {
              "color": "white"
             }
            },
            "header": {
             "fill": {
              "color": "#C8D4E3"
             },
             "line": {
              "color": "white"
             }
            },
            "type": "table"
           }
          ]
         },
         "layout": {
          "annotationdefaults": {
           "arrowcolor": "#2a3f5f",
           "arrowhead": 0,
           "arrowwidth": 1
          },
          "autotypenumbers": "strict",
          "coloraxis": {
           "colorbar": {
            "outlinewidth": 0,
            "ticks": ""
           }
          },
          "colorscale": {
           "diverging": [
            [
             0,
             "#8e0152"
            ],
            [
             0.1,
             "#c51b7d"
            ],
            [
             0.2,
             "#de77ae"
            ],
            [
             0.3,
             "#f1b6da"
            ],
            [
             0.4,
             "#fde0ef"
            ],
            [
             0.5,
             "#f7f7f7"
            ],
            [
             0.6,
             "#e6f5d0"
            ],
            [
             0.7,
             "#b8e186"
            ],
            [
             0.8,
             "#7fbc41"
            ],
            [
             0.9,
             "#4d9221"
            ],
            [
             1,
             "#276419"
            ]
           ],
           "sequential": [
            [
             0,
             "#0d0887"
            ],
            [
             0.1111111111111111,
             "#46039f"
            ],
            [
             0.2222222222222222,
             "#7201a8"
            ],
            [
             0.3333333333333333,
             "#9c179e"
            ],
            [
             0.4444444444444444,
             "#bd3786"
            ],
            [
             0.5555555555555556,
             "#d8576b"
            ],
            [
             0.6666666666666666,
             "#ed7953"
            ],
            [
             0.7777777777777778,
             "#fb9f3a"
            ],
            [
             0.8888888888888888,
             "#fdca26"
            ],
            [
             1,
             "#f0f921"
            ]
           ],
           "sequentialminus": [
            [
             0,
             "#0d0887"
            ],
            [
             0.1111111111111111,
             "#46039f"
            ],
            [
             0.2222222222222222,
             "#7201a8"
            ],
            [
             0.3333333333333333,
             "#9c179e"
            ],
            [
             0.4444444444444444,
             "#bd3786"
            ],
            [
             0.5555555555555556,
             "#d8576b"
            ],
            [
             0.6666666666666666,
             "#ed7953"
            ],
            [
             0.7777777777777778,
             "#fb9f3a"
            ],
            [
             0.8888888888888888,
             "#fdca26"
            ],
            [
             1,
             "#f0f921"
            ]
           ]
          },
          "colorway": [
           "#636efa",
           "#EF553B",
           "#00cc96",
           "#ab63fa",
           "#FFA15A",
           "#19d3f3",
           "#FF6692",
           "#B6E880",
           "#FF97FF",
           "#FECB52"
          ],
          "font": {
           "color": "#2a3f5f"
          },
          "geo": {
           "bgcolor": "white",
           "lakecolor": "white",
           "landcolor": "#E5ECF6",
           "showlakes": true,
           "showland": true,
           "subunitcolor": "white"
          },
          "hoverlabel": {
           "align": "left"
          },
          "hovermode": "closest",
          "mapbox": {
           "style": "light"
          },
          "paper_bgcolor": "white",
          "plot_bgcolor": "#E5ECF6",
          "polar": {
           "angularaxis": {
            "gridcolor": "white",
            "linecolor": "white",
            "ticks": ""
           },
           "bgcolor": "#E5ECF6",
           "radialaxis": {
            "gridcolor": "white",
            "linecolor": "white",
            "ticks": ""
           }
          },
          "scene": {
           "xaxis": {
            "backgroundcolor": "#E5ECF6",
            "gridcolor": "white",
            "gridwidth": 2,
            "linecolor": "white",
            "showbackground": true,
            "ticks": "",
            "zerolinecolor": "white"
           },
           "yaxis": {
            "backgroundcolor": "#E5ECF6",
            "gridcolor": "white",
            "gridwidth": 2,
            "linecolor": "white",
            "showbackground": true,
            "ticks": "",
            "zerolinecolor": "white"
           },
           "zaxis": {
            "backgroundcolor": "#E5ECF6",
            "gridcolor": "white",
            "gridwidth": 2,
            "linecolor": "white",
            "showbackground": true,
            "ticks": "",
            "zerolinecolor": "white"
           }
          },
          "shapedefaults": {
           "line": {
            "color": "#2a3f5f"
           }
          },
          "ternary": {
           "aaxis": {
            "gridcolor": "white",
            "linecolor": "white",
            "ticks": ""
           },
           "baxis": {
            "gridcolor": "white",
            "linecolor": "white",
            "ticks": ""
           },
           "bgcolor": "#E5ECF6",
           "caxis": {
            "gridcolor": "white",
            "linecolor": "white",
            "ticks": ""
           }
          },
          "title": {
           "x": 0.05
          },
          "xaxis": {
           "automargin": true,
           "gridcolor": "white",
           "linecolor": "white",
           "ticks": "",
           "title": {
            "standoff": 15
           },
           "zerolinecolor": "white",
           "zerolinewidth": 2
          },
          "yaxis": {
           "automargin": true,
           "gridcolor": "white",
           "linecolor": "white",
           "ticks": "",
           "title": {
            "standoff": 15
           },
           "zerolinecolor": "white",
           "zerolinewidth": 2
          }
         }
        },
        "title": {
         "text": "Job Shop Schedule"
        },
        "xaxis": {
         "rangeselector": {
          "buttons": [
           {
            "count": 7,
            "label": "1w",
            "step": "day",
            "stepmode": "backward"
           },
           {
            "count": 1,
            "label": "1m",
            "step": "month",
            "stepmode": "backward"
           },
           {
            "count": 6,
            "label": "6m",
            "step": "month",
            "stepmode": "backward"
           },
           {
            "count": 1,
            "label": "YTD",
            "step": "year",
            "stepmode": "todate"
           },
           {
            "count": 1,
            "label": "1y",
            "step": "year",
            "stepmode": "backward"
           },
           {
            "step": "all"
           }
          ]
         },
         "showgrid": true,
         "type": "date",
         "zeroline": false
        },
        "yaxis": {
         "autorange": false,
         "range": [
          -1,
          11
         ],
         "showgrid": false,
         "ticktext": [
          "Machine 10",
          "Machine 9",
          "Machine 8",
          "Machine 7",
          "Machine 6",
          "Machine 5",
          "Machine 4",
          "Machine 3",
          "Machine 2",
          "Machine 1"
         ],
         "tickvals": [
          0,
          1,
          2,
          3,
          4,
          5,
          6,
          7,
          8,
          9
         ],
         "zeroline": false
        }
       }
      }
     },
     "metadata": {},
     "output_type": "display_data"
    }
   ],
   "source": [
    "import matplotlib.pyplot as plt\n",
    "import numpy as np\n",
    "import datetime\n",
    "import plotly.figure_factory as ff\n",
    "\n",
    "# Assuming you have the necessary variables: best_job_order, p_t, m_seq\n",
    "\n",
    "j_count = p_t.shape[0]\n",
    "m_count = m_seq.shape[1]\n",
    "task_colors = plt.cm.viridis(np.linspace(0, 1, j_count))\n",
    "\n",
    "# Dictionary to store job scheduling information\n",
    "j_record = {}\n",
    "\n",
    "for i, op_id in enumerate(best_job_order):\n",
    "    job_id = i % j_count  # Wrap around the job_id using modulo\n",
    "    machine_id = i // j_count + 1  # Calculate the machine_id based on the job_id\n",
    "\n",
    "    if op_id < p_t.shape[1] and op_id < m_seq.shape[1]:\n",
    "        p_t_row = p_t[job_id, :op_id + 1]\n",
    "        m_seq_row = m_seq[job_id, :op_id + 1]\n",
    "\n",
    "        start_time = max(np.sum(p_t_row), np.sum(m_seq_row))\n",
    "        end_time = start_time + p_t[job_id, op_id]\n",
    "\n",
    "        # Convert start_time and end_time to timedelta format\n",
    "        start_time = str(datetime.timedelta(seconds=start_time))\n",
    "        end_time = str(datetime.timedelta(seconds=end_time))\n",
    "\n",
    "        j_record[(job_id, machine_id)] = [start_time, end_time]\n",
    "\n",
    "# Creating a list of dictionaries for DataFrame\n",
    "df = []\n",
    "for machine_id in range(1, m_count + 1):\n",
    "    for job_id in range(j_count):\n",
    "        df.append(dict(Task=f\"Machine {machine_id}\", Start=f'2023-11-23 {j_record[(job_id, machine_id)][0]}',\n",
    "                       Finish=f'2023-11-23 {j_record[(job_id, machine_id)][1]}', Resource=f'Job {job_id + 1}'))\n",
    "\n",
    "# Creating a DataFrame\n",
    "df = pd.DataFrame(df)\n",
    "df.Start = pd.to_datetime(df['Start'])\n",
    "df.Finish = pd.to_datetime(df['Finish'])\n",
    "\n",
    "# Creating Gantt Chart using Plotly\n",
    "fig = ff.create_gantt(df, index_col='Resource', show_colorbar=True, group_tasks=True, showgrid_x=True,\n",
    "                      title='Job Shop Schedule')\n",
    "fig.show()"
   ]
  }
 ],
 "metadata": {
  "kernelspec": {
   "display_name": "Python 3",
   "language": "python",
   "name": "python3"
  },
  "language_info": {
   "codemirror_mode": {
    "name": "ipython",
    "version": 3
   },
   "file_extension": ".py",
   "mimetype": "text/x-python",
   "name": "python",
   "nbconvert_exporter": "python",
   "pygments_lexer": "ipython3",
   "version": "3.12.0"
  }
 },
 "nbformat": 4,
 "nbformat_minor": 2
}
